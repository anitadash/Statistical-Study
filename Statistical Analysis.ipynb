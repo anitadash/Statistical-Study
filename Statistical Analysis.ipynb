{
  "cells": [
    {
      "cell_type": "markdown",
      "source": [
        "\n",
        "#Statistical Analysis on Factors affecting Typing Speed"
      ],
      "metadata": {
        "id": "WGuIK66skNLx"
      }
    },
    {
      "cell_type": "markdown",
      "source": [
        "##Introduction\n",
        "Typing is now one of the essential part of almost every job, since it lets you do your work very quickly and efficiently. This study aims to analyze the typing speed of students in IITH and tries to draw some conclusions based on the factors like gender, batch (degree program - UG, Masters or PhD) and branch, and checks if there is some relation between them and typing speed."
      ],
      "metadata": {
        "id": "2HKGBEjioGuB"
      }
    },
    {
      "cell_type": "markdown",
      "source": [
        "##Objective\n",
        "The objective of our study is to ascertain factors affecting the\n",
        "typing speed of students.\n"
      ],
      "metadata": {
        "id": "Zl3rJ4iMkjJL"
      }
    },
    {
      "cell_type": "markdown",
      "source": [
        "\n",
        "\n",
        "##**Data Collection**\n",
        "\n",
        "###Variables of Interest\n",
        "We want to see how the factors such as Gender, Batch, Branch of a student studying in IIT Hyderabad correlate to their typing speed.\n",
        "\n",
        "Thus the independant variables are:\n",
        ">1. Gender: Nominal Categorical Variable\n",
        ">2. Batch: Ordinal Categorical Variable\n",
        ">3. Branch: Nominal Categorical Variable\n",
        "\n",
        "While the dependant variables are:\n",
        ">1. Words Per Minute (WPM)\n",
        "\n",
        "For the purpose of the analysis we will group branches into:\n",
        ">1. Group1: CSE, AI, MA, ES\n",
        ">2. Group2: CH, CE, MSME, BME, BTE\n",
        ">3. Group3: ME, EP, EE, Physics\n",
        ">4. Group4: LA, Design, Others\n",
        "\n",
        "###Survey \n",
        "A google form was floated to the student body of IIT Hyderabad. They were asked to fill in their Age, Batch and Branch along with a screenshot of their results from the typing speed test \n",
        "\n",
        " (website link: [monkeytype](https://monkeytype.com/))"
      ],
      "metadata": {
        "id": "5Jz00MPlm6UO"
      }
    },
    {
      "cell_type": "markdown",
      "source": [
        "##**Data Cleaning**\n",
        "\n",
        "Some of the information collected in the data were incorrect, corrupted, incorrectly formatted and also were incomplete.\n",
        "\n",
        "and thus we were required to clean the data before going ahead with our study\n",
        "\n",
        "**Note**: Throughout the cleaning process, the rows with corruput values were dropped. In cases where we could infer the missing values from other columns, we made an intelligent guess and did so. "
      ],
      "metadata": {
        "id": "isex9tI9kzK2"
      }
    },
    {
      "cell_type": "code",
      "execution_count": null,
      "metadata": {
        "id": "q7q7HwhwZih1"
      },
      "outputs": [],
      "source": [
        "import pandas as pd\n",
        "import numpy as np\n",
        "import math\n",
        "from scipy import stats\n",
        "from random import sample"
      ]
    },
    {
      "cell_type": "code",
      "execution_count": null,
      "metadata": {
        "colab": {
          "base_uri": "https://localhost:8080/"
        },
        "id": "awUeTB5SQ9ZD",
        "outputId": "31b18e02-b1d5-4e0b-8aca-a62d2b49bfe2"
      },
      "outputs": [
        {
          "output_type": "stream",
          "name": "stdout",
          "text": [
            "(155, 6)\n",
            "Index(['WPM', 'Accuracy', 'Your age', 'Your batch', 'Your branch', 'Gender'], dtype='object')\n",
            "<class 'pandas.core.frame.DataFrame'>\n",
            "RangeIndex: 155 entries, 0 to 154\n",
            "Data columns (total 6 columns):\n",
            " #   Column       Non-Null Count  Dtype \n",
            "---  ------       --------------  ----- \n",
            " 0   WPM          151 non-null    object\n",
            " 1   Accuracy     150 non-null    object\n",
            " 2   Your age     155 non-null    object\n",
            " 3   Your batch   155 non-null    object\n",
            " 4   Your branch  155 non-null    object\n",
            " 5   Gender       155 non-null    object\n",
            "dtypes: object(6)\n",
            "memory usage: 7.4+ KB\n",
            "None\n"
          ]
        }
      ],
      "source": [
        "#data cleaning\n",
        "dirty_data = pd.read_csv(\"Dirty_Data.csv\")\n",
        "print(dirty_data.shape)\n",
        "print(dirty_data.columns)\n",
        "print(dirty_data.info())"
      ]
    },
    {
      "cell_type": "markdown",
      "source": [
        "The column names had spaces between them and hence were changed to a better format "
      ],
      "metadata": {
        "id": "IjndAeKZydzf"
      }
    },
    {
      "cell_type": "code",
      "execution_count": null,
      "metadata": {
        "colab": {
          "base_uri": "https://localhost:8080/"
        },
        "id": "Fj04B2ZxQ9fT",
        "outputId": "1090caf1-acb4-4b31-f64a-e80b043e3505"
      },
      "outputs": [
        {
          "output_type": "stream",
          "name": "stdout",
          "text": [
            "Index(['WPM', 'Accuracy', 'Age', 'Batch', 'Branch', 'Gender'], dtype='object')\n"
          ]
        }
      ],
      "source": [
        "#Changing column names\n",
        "dirty_data.columns = ['WPM', 'Accuracy', 'Age', 'Batch','Branch','Gender']\n",
        "print(dirty_data.columns)"
      ]
    },
    {
      "cell_type": "markdown",
      "source": [
        "The cells which had corrupt values for WPM, accuracy were replaced with their respective medians."
      ],
      "metadata": {
        "id": "zy0UI0ocyUzU"
      }
    },
    {
      "cell_type": "code",
      "execution_count": null,
      "metadata": {
        "colab": {
          "base_uri": "https://localhost:8080/"
        },
        "id": "P2vsX4wSQ9jL",
        "outputId": "3bbd2d17-c0b5-4e9f-9c97-cf6c2df6b93e"
      },
      "outputs": [
        {
          "output_type": "stream",
          "name": "stdout",
          "text": [
            "52.5 96.0\n",
            "<class 'pandas.core.frame.DataFrame'>\n",
            "RangeIndex: 155 entries, 0 to 154\n",
            "Data columns (total 6 columns):\n",
            " #   Column    Non-Null Count  Dtype  \n",
            "---  ------    --------------  -----  \n",
            " 0   WPM       155 non-null    float64\n",
            " 1   Accuracy  155 non-null    float64\n",
            " 2   Age       155 non-null    object \n",
            " 3   Batch     155 non-null    object \n",
            " 4   Branch    155 non-null    object \n",
            " 5   Gender    155 non-null    object \n",
            "dtypes: float64(2), object(4)\n",
            "memory usage: 7.4+ KB\n",
            "None\n"
          ]
        }
      ],
      "source": [
        "#there is an entry as '-' in the colum WPM, Accurcay, changing that to null\n",
        "dirty_data['WPM'] = dirty_data['WPM'].replace({'-': None})\n",
        "dirty_data['Accuracy'] = dirty_data['Accuracy'].replace({'-': None})\n",
        "#changing the datatype of WPM, Accuracy to numeric\n",
        "dirty_data['WPM'] = pd.to_numeric(dirty_data['WPM'])\n",
        "dirty_data['Accuracy'] = pd.to_numeric(dirty_data['Accuracy'])\n",
        "#replacing the null values in WPM, Accuracy with their respective medians\n",
        "median_WPM = dirty_data['WPM'].median(axis=0)\n",
        "median_acc = dirty_data['Accuracy'].median(axis=0)\n",
        "print(median_WPM,median_acc)\n",
        "dirty_data[\"WPM\"].fillna(median_WPM, inplace = True)\n",
        "dirty_data[\"Accuracy\"].fillna(median_acc, inplace = True)\n",
        "print(dirty_data.info())"
      ]
    },
    {
      "cell_type": "markdown",
      "source": [
        "The corrupt entries in column age were changed based on the batch the student was studying"
      ],
      "metadata": {
        "id": "LyApHgDtnwYm"
      }
    },
    {
      "cell_type": "code",
      "execution_count": null,
      "metadata": {
        "colab": {
          "base_uri": "https://localhost:8080/"
        },
        "id": "IvhP0SZVQ9m9",
        "outputId": "f2496ae6-2f89-43bc-acaf-7cd9327f6581"
      },
      "outputs": [
        {
          "output_type": "stream",
          "name": "stdout",
          "text": [
            "<class 'pandas.core.frame.DataFrame'>\n",
            "RangeIndex: 155 entries, 0 to 154\n",
            "Data columns (total 6 columns):\n",
            " #   Column    Non-Null Count  Dtype  \n",
            "---  ------    --------------  -----  \n",
            " 0   WPM       155 non-null    float64\n",
            " 1   Accuracy  155 non-null    float64\n",
            " 2   Age       155 non-null    int64  \n",
            " 3   Batch     155 non-null    object \n",
            " 4   Branch    155 non-null    object \n",
            " 5   Gender    155 non-null    object \n",
            "dtypes: float64(2), int64(1), object(3)\n",
            "memory usage: 7.4+ KB\n",
            "None\n",
            "18 44\n"
          ]
        },
        {
          "output_type": "execute_result",
          "data": {
            "text/plain": [
              "array([28, 23, 25, 20, 18, 33, 19, 22, 31, 26, 24, 29, 21, 27, 38, 44, 35])"
            ]
          },
          "metadata": {},
          "execution_count": 57
        }
      ],
      "source": [
        "#there is an entry with 19/20 in column age changing it to 20\n",
        "dirty_data['Age'] = dirty_data['Age'].replace({\"19/20\": 20})\n",
        "#there is an entry with Abhimanyu in column age, Since he is doing his masters, approximating his age to 22\n",
        "dirty_data['Age'] = dirty_data['Age'].replace({\"Abhimanyu\": 22})\n",
        "dirty_data['Age'] = pd.to_numeric(dirty_data['Age'])\n",
        "print(dirty_data.info())\n",
        "print(dirty_data['Age'].min(),dirty_data['Age'].max())\n",
        "#The 44 year old is doing PHD \n",
        "dirty_data['Age'].unique()\n",
        "#higher ages(>24) belong to non UG batches"
      ]
    },
    {
      "cell_type": "markdown",
      "source": [
        "Checking for typos/incorrect entries in the Batch Column"
      ],
      "metadata": {
        "id": "DRpSlGSbosIs"
      }
    },
    {
      "cell_type": "code",
      "execution_count": null,
      "metadata": {
        "colab": {
          "base_uri": "https://localhost:8080/"
        },
        "id": "29Qk1XHnQ9qF",
        "outputId": "f8eb5b5e-b731-4d4e-dbb0-741a69eb9da5"
      },
      "outputs": [
        {
          "output_type": "execute_result",
          "data": {
            "text/plain": [
              "array(['PHD', 'M.Sc/M.Des/M.Tech', 'UG', 'MDS (M.Tech in Data Science)',\n",
              "       'MA', 'M.Sc/M.Des/M.Techh'], dtype=object)"
            ]
          },
          "metadata": {},
          "execution_count": 58
        }
      ],
      "source": [
        "dirty_data['Batch'].unique()"
      ]
    },
    {
      "cell_type": "markdown",
      "source": [
        "Batches were grouped into UG, PhD and Masters. Masters encompassed of Mdes, Mtech, Msc etc. The data types for the columns were changed into their corresponding appropriate data types."
      ],
      "metadata": {
        "id": "emToIjmUyiLd"
      }
    },
    {
      "cell_type": "code",
      "execution_count": null,
      "metadata": {
        "colab": {
          "base_uri": "https://localhost:8080/"
        },
        "id": "8lQ4d8QNQ9tc",
        "outputId": "d40ec77a-71e9-478e-b7f2-7170aa60aa49"
      },
      "outputs": [
        {
          "output_type": "stream",
          "name": "stdout",
          "text": [
            "['PHD' 'Masters' 'UG']\n",
            "<class 'pandas.core.frame.DataFrame'>\n",
            "RangeIndex: 155 entries, 0 to 154\n",
            "Data columns (total 6 columns):\n",
            " #   Column    Non-Null Count  Dtype  \n",
            "---  ------    --------------  -----  \n",
            " 0   WPM       155 non-null    float64\n",
            " 1   Accuracy  155 non-null    float64\n",
            " 2   Age       155 non-null    int64  \n",
            " 3   Batch     155 non-null    string \n",
            " 4   Branch    155 non-null    object \n",
            " 5   Gender    155 non-null    object \n",
            "dtypes: float64(2), int64(1), object(2), string(1)\n",
            "memory usage: 7.4+ KB\n",
            "None\n"
          ]
        }
      ],
      "source": [
        "dirty_data['Batch']=dirty_data['Batch'].replace(to_replace =[\"M.Sc/M.Des/M.Tech\", \"MDS (M.Tech in Data Science)\",\"MA\",\"M.Sc/M.Des/M.Techh\"], \n",
        "                            value =\"Masters\")\n",
        "print(dirty_data['Batch'].unique())\n",
        "dirty_data['Batch'] = pd.Series(dirty_data['Batch'], dtype=\"string\")\n",
        "print(dirty_data.info())"
      ]
    },
    {
      "cell_type": "markdown",
      "source": [
        "Checking for typos/incorrect entries in the Gender Column"
      ],
      "metadata": {
        "id": "e5qSQCV5pMvm"
      }
    },
    {
      "cell_type": "code",
      "execution_count": null,
      "metadata": {
        "colab": {
          "base_uri": "https://localhost:8080/"
        },
        "id": "rvMiyGa4RM2F",
        "outputId": "c535d8fe-b362-4376-91bb-e5f20eb17931"
      },
      "outputs": [
        {
          "output_type": "stream",
          "name": "stdout",
          "text": [
            "<class 'pandas.core.frame.DataFrame'>\n",
            "RangeIndex: 155 entries, 0 to 154\n",
            "Data columns (total 6 columns):\n",
            " #   Column    Non-Null Count  Dtype  \n",
            "---  ------    --------------  -----  \n",
            " 0   WPM       155 non-null    float64\n",
            " 1   Accuracy  155 non-null    float64\n",
            " 2   Age       155 non-null    int64  \n",
            " 3   Batch     155 non-null    string \n",
            " 4   Branch    155 non-null    object \n",
            " 5   Gender    155 non-null    string \n",
            "dtypes: float64(2), int64(1), object(1), string(2)\n",
            "memory usage: 7.4+ KB\n",
            "None\n"
          ]
        }
      ],
      "source": [
        "dirty_data['Gender'].unique()\n",
        "dirty_data['Gender'] = pd.Series(dirty_data['Gender'], dtype=\"string\")\n",
        "print(dirty_data.info())"
      ]
    },
    {
      "cell_type": "code",
      "execution_count": null,
      "metadata": {
        "id": "vz2_eYHcSdKr"
      },
      "outputs": [],
      "source": [
        "dirty_data['Branch'] = pd.Series(dirty_data['Branch'], dtype=\"string\")"
      ]
    },
    {
      "cell_type": "markdown",
      "source": [
        "Coming to branches, there were many different ways in which a single branch was written, for example, cse was written as [COmputer Science, cs, cse] etc. We changed all such values to a uniform branch code."
      ],
      "metadata": {
        "id": "fdIIkyMtyvOc"
      }
    },
    {
      "cell_type": "code",
      "execution_count": null,
      "metadata": {
        "id": "Ak7SgsVpSyFX"
      },
      "outputs": [],
      "source": [
        "dirty_data=dirty_data.replace(to_replace =['Mathematics',\n",
        "       'Mathematics and Computing', 'MATHEMATICS AND COMPUTING',\n",
        "       'Mathematics and computing', 'Mathematics and Computing ','MNC','Mnc','MnC'], \n",
        "                            value =\"MA\")\n",
        "dirty_data=dirty_data.replace(to_replace =['AI','Ai'], \n",
        "                            value =\"AI\")\n",
        "dirty_data=dirty_data.replace(to_replace =['bme', 'bme engineering',\n",
        "       'bme Engineering'], \n",
        "                            value =\"BME\")\n",
        "dirty_data=dirty_data.replace(to_replace =['Biotechnology', 'biotechnology'], \n",
        "                            value =\"BTE\")\n",
        "dirty_data=dirty_data.replace(to_replace =['Chemical', 'CHEMICAL',\n",
        "       'CH', 'Chemical Engineering'], \n",
        "                            value =\"CH\")\n",
        "dirty_data=dirty_data.replace(to_replace =['CIVIL', 'civil',\n",
        "       'Civil Engineering', 'CE ', 'Civil Engineering Department '], \n",
        "                            value =\"CE\")\n",
        "dirty_data=dirty_data.replace(to_replace =['Computer Science', 'Computer science',\n",
        "       'Computer Science ',\n",
        "       'Computer Science : Basically, I am a CODER : )',\n",
        "       'Computer Science and Engineering', 'CS', 'CSE', 'cse'], \n",
        "                            value =\"CSE\")\n",
        "dirty_data=dirty_data.replace(to_replace =['EE', 'Electrical ',\n",
        "       'Electrical Engineering', 'Electrical Engineering ',\n",
        "       'Electrical Engineering - Microelectronics & VLSI',\n",
        "       'Electrical Engineering - Microelectronics and VLSI'], \n",
        "                            value =\"EE\")\n",
        "dirty_data=dirty_data.replace(to_replace =['ME',\n",
        "       'Mechanical', 'Mechanical ',\n",
        "       'Mechanical and Aerospace Engineering', 'Mechanical Department',\n",
        "       'Mechanical Engineering', 'Mechanical engineering'], \n",
        "                            value =\"ME\")\n",
        "dirty_data=dirty_data.replace(to_replace =['ep',\n",
        "       'Engineering Physics'], \n",
        "                            value =\"EP\")\n",
        "dirty_data=dirty_data.replace(to_replace =[\n",
        "       'MSc Physics'], \n",
        "                            value =\"Physics\")\n",
        "dirty_data=dirty_data.replace(to_replace =['NIS','Climate Change',\n",
        "       'Smart Mobility', 'Center of Interdisciplinary Program','E-waste Resource Engineering and Management','DEVELOPMENT STUDIES','Entrepreneurship and Management'], \n",
        "                            value =\"Others\")\n",
        "dirty_data=dirty_data.replace(to_replace =[\n",
        "       'Liberal Arts'], \n",
        "                            value =\"LA\")\n",
        "dirty_data=dirty_data.replace(to_replace =[\n",
        "       'Engineering Science'], \n",
        "                            value =\"ES\")\n",
        "dirty_data=dirty_data.replace(to_replace =[\n",
        "       'Masters in Design'], \n",
        "                            value =\"Design\")\n",
        "dirty_data=dirty_data.replace(to_replace =[\n",
        "       'materials science engg'], \n",
        "                            value =\"MSME\")\n",
        "dirty_data = dirty_data[dirty_data.Branch\n",
        "                        != '2019']\n",
        "dirty_data = dirty_data[dirty_data.Branch\n",
        "                        != '2020-22']"
      ]
    },
    {
      "cell_type": "markdown",
      "source": [
        "A new column was added that specified the group the student's branch came under."
      ],
      "metadata": {
        "id": "1ZQ3zBEPqavJ"
      }
    },
    {
      "cell_type": "code",
      "execution_count": null,
      "metadata": {
        "id": "s0_JPSDRTG1T"
      },
      "outputs": [],
      "source": [
        "def calc_new_col(row):\n",
        "    if row['Branch'] in ['CSE','MA','AI','ES']:\n",
        "        return 1\n",
        "    elif row['Branch'] in ['CH','CE','MSME','BME','BTE']:\n",
        "        return 2\n",
        "    elif row['Branch'] in ['EP','EE','ME','Physics']:\n",
        "        return 3\n",
        "    else:\n",
        "        return 4\n",
        "\n",
        "dirty_data[\"Groups\"] = dirty_data.apply(calc_new_col, axis=1)"
      ]
    },
    {
      "cell_type": "code",
      "execution_count": null,
      "metadata": {
        "colab": {
          "base_uri": "https://localhost:8080/"
        },
        "id": "YhnDqaRcU4lC",
        "outputId": "074f9ab6-9d96-4bd2-85a9-79867034f72b"
      },
      "outputs": [
        {
          "output_type": "stream",
          "name": "stdout",
          "text": [
            "      WPM  Accuracy  Age    Batch  Branch  Gender  Groups\n",
            "2    39.0      85.0   25  Masters      AI    Male       1\n",
            "3    53.0      97.0   20       UG      AI    Male       1\n",
            "4    68.0      98.0   18       UG      AI    Male       1\n",
            "5    50.0      99.0   33      PHD      AI    Male       1\n",
            "6    78.0      97.0   19       UG      AI  Female       1\n",
            "..    ...       ...  ...      ...     ...     ...     ...\n",
            "150  63.0      96.0   26      PHD  Design    Male       4\n",
            "151  58.0      96.0   24  Masters  Design    Male       4\n",
            "152  55.0      95.0   25      PHD      LA    Male       4\n",
            "153  46.0      96.0   27      PHD      CH    Male       2\n",
            "154  47.0      94.0   22  Masters      CH  Female       2\n",
            "\n",
            "[153 rows x 7 columns]\n"
          ]
        }
      ],
      "source": [
        "print(dirty_data)"
      ]
    },
    {
      "cell_type": "markdown",
      "source": [
        "Our Data has been cleaned and now is ready for further analysis"
      ],
      "metadata": {
        "id": "ph1ZtpCfq8nV"
      }
    },
    {
      "cell_type": "code",
      "execution_count": null,
      "metadata": {
        "id": "i2-vuwmXU_dB"
      },
      "outputs": [],
      "source": [
        "dirty_data.to_csv('clean_data.csv')"
      ]
    },
    {
      "cell_type": "markdown",
      "source": [
        "##A Potential Issue\n",
        "The data was collected through a survey, which is an example of convenience sampling, hence there is a possibilty of the dataframe generated to be biased.\n",
        "\n",
        "Through the process of simple random sampling(selecting a number of random samples from the collected data), we can deal with the issue of bias upto some extent, however for the statiscal analysis that will happen further into the study to hold true, the dataframe that generates the sample needs to be normally distributed \n",
        "\n",
        "Hence we need to verify the normality of our dataframe.\n",
        "\n",
        "##Histogram Test\n",
        "We generate the histogram plot of frequency vs WPM and compare it to a normal probabilty curve"
      ],
      "metadata": {
        "id": "3VDRCotdnHEw"
      }
    },
    {
      "cell_type": "code",
      "source": [
        "data_frame = pd.read_csv('clean_data.csv')\n",
        "from scipy.stats import norm\n",
        "from numpy import mean,std\n",
        "mean = mean(data_frame['WPM'])\n",
        "std = std(data_frame['WPM'])\n",
        "min_weight = min(data_frame['WPM'])\n",
        "max_weight = max(data_frame['WPM'])\n",
        "values = np.linspace(min_weight, max_weight,100)\n",
        "from matplotlib import pyplot\n",
        "pyplot.hist(data_frame['WPM'], bins=25, density=True) \n",
        "pyplot.plot(values, norm.pdf(values, mean, std))"
      ],
      "metadata": {
        "colab": {
          "base_uri": "https://localhost:8080/",
          "height": 284
        },
        "id": "MoIljPFsnIUP",
        "outputId": "3137c19a-ff70-427e-c157-b9ab3f42296e"
      },
      "execution_count": null,
      "outputs": [
        {
          "output_type": "execute_result",
          "data": {
            "text/plain": [
              "[<matplotlib.lines.Line2D at 0x7f6a88020650>]"
            ]
          },
          "metadata": {},
          "execution_count": 66
        },
        {
          "output_type": "display_data",
          "data": {
            "text/plain": [
              "<Figure size 432x288 with 1 Axes>"
            ],
            "image/png": "[encoded data removed]"
          },
          "metadata": {
            "needs_background": "light"
          }
        }
      ]
    },
    {
      "cell_type": "markdown",
      "source": [
        "We can see from the above graph that our dataframe may not be normally distributed.\n",
        "\n",
        "We run a p-value test for normality, to verify whether our dataframe is normally distributed."
      ],
      "metadata": {
        "id": "G_VsKqgAnNCo"
      }
    },
    {
      "cell_type": "code",
      "source": [
        "from scipy.stats import shapiro\n",
        "stat, p = shapiro(data_frame['WPM'])\n",
        "alpha = 0.05\n",
        "if p > alpha:\n",
        "    print('data is normally distributed (fail to reject H0)')\n",
        "else:\n",
        "    print('data is not normally distributed (reject H0)')"
      ],
      "metadata": {
        "colab": {
          "base_uri": "https://localhost:8080/"
        },
        "id": "RdQwUL29nV-f",
        "outputId": "cbb36ffe-20bb-4ed2-e78a-f50aad065282"
      },
      "execution_count": null,
      "outputs": [
        {
          "output_type": "stream",
          "name": "stdout",
          "text": [
            "data is not normally distributed (reject H0)\n"
          ]
        }
      ]
    },
    {
      "cell_type": "markdown",
      "source": [
        "The above test concludes that our dataframe collected from the survey is not normally distributed.\n",
        "\n",
        "##Using Central Limit Theorem\n",
        "The Central Limit Theorem states that:\n",
        "\n",
        "Let $X_{1}, X_{2},..., X_{n}$ be a sequence of random i.i.d variables with a mean $\\mu$ and variance $\\sigma^2$. Let $\\bar{X_{n}} = \\frac{1}{n}\\sum_{i=1}^n X_{i}$. Then,\n",
        ">>>$\\bar{X_{n}} \\sim N\\left(\\mu, \\frac{\\sigma^2}{n}\\right)$ \n",
        "\n",
        "Which means that the sample distribution of sample means is approximately normal.\n",
        "\n",
        "The central Limit Theorem also states that as n increases the sample distribution of sample means of skewed data also approaches normality\n",
        "\n",
        "####The sample distribution of sample means of our dataframe\n",
        "We are going to generate $10^5$ samples means from samples of each size $30$ from our dataframe"
      ],
      "metadata": {
        "id": "xISQZnuenbaP"
      }
    },
    {
      "cell_type": "code",
      "source": [
        "lisw=[]\n",
        "for i in range(0,int(1e5)):\n",
        "  df=data_frame.sample(n=30, replace=True)\n",
        "  lisw.append(df[\"WPM\"].mean())\n",
        "from scipy.stats import norm\n",
        "from numpy import mean,std\n",
        "mean = mean(lisw)\n",
        "std = std(lisw)\n",
        "min_weight = min(lisw)\n",
        "max_weight = max(lisw)\n",
        "values = np.linspace(min_weight, max_weight,100)\n",
        "from matplotlib import pyplot\n",
        "pyplot.hist(lisw, bins=25, density=True) # , \n",
        "pyplot.plot(values, norm.pdf(values, mean, std))"
      ],
      "metadata": {
        "colab": {
          "base_uri": "https://localhost:8080/",
          "height": 284
        },
        "id": "QGPXm6Sfncjn",
        "outputId": "15bcd7a8-3d70-4a08-beab-8a31da45f686"
      },
      "execution_count": null,
      "outputs": [
        {
          "output_type": "execute_result",
          "data": {
            "text/plain": [
              "[<matplotlib.lines.Line2D at 0x7f6a8809e050>]"
            ]
          },
          "metadata": {},
          "execution_count": 68
        },
        {
          "output_type": "display_data",
          "data": {
            "text/plain": [
              "<Figure size 432x288 with 1 Axes>"
            ],
            "image/png": "[encoded data removed]"
          },
          "metadata": {
            "needs_background": "light"
          }
        }
      ]
    },
    {
      "cell_type": "markdown",
      "source": [
        "From the histogram and corresponding normal curve we can say that the sample distribution of $10^5$ sample means from samples each of size $30$ is normally distributed.\n",
        "\n",
        "Since we know the distribution of sample means is normal, we can go ahead with further statistical analysis by randomly selecting $n$ number of samples from this normal distribution.\n",
        "And this idea will be the basic ground of our study. We will filter our dataframe into the two genders, three batches, four groups based on the branches and generate 9 new dataframes.\n",
        "\n",
        "$10^5$ sample means from samples each of size $30$ will be generated from each of these 9 dataframes, and we will randomly sample 100 means from each of these normal distributions.\n",
        "These 9 new samples generated from their respective sampling distribution of sample means will act as our sample data sets and be used for further statistical analysis in our study.\n",
        "\n",
        "\n",
        "\n",
        "**Note**: Further into the study we use the term \"Average WPM\" of a category , by this we mean- **the average typing speed of a group of 30 random people fitting the category**"
      ],
      "metadata": {
        "id": "thlZwTVmngpn"
      }
    },
    {
      "cell_type": "code",
      "execution_count": null,
      "metadata": {
        "id": "w8gZflK5uPS_"
      },
      "outputs": [],
      "source": [
        "#generating samples from a sample of sample means\n",
        "def gen_sample(data,col_name):\n",
        "  lisw = []\n",
        "  for i in range(0,int(1e5)):\n",
        "    df=data[col_name].sample(n=30, replace=True)\n",
        "    lisw.append(df.mean())\n",
        "  final_sample = sample(lisw,100)\n",
        "  return final_sample"
      ]
    },
    {
      "cell_type": "code",
      "execution_count": null,
      "metadata": {
        "id": "vQbC7eDhbQJ3"
      },
      "outputs": [],
      "source": [
        "data = pd.read_csv(\"clean_data.csv\")\n",
        "female = gen_sample(data[data['Gender']=='Female'],\"WPM\")\n",
        "male = gen_sample(data[data['Gender']=='Male'],\"WPM\")\n",
        "ug = gen_sample(data[data['Batch']=='UG'],\"WPM\")\n",
        "masters = gen_sample(data[data['Batch']=='Masters'],\"WPM\")\n",
        "phd = gen_sample(data[data['Batch']=='PHD'],\"WPM\")\n",
        "group1 = gen_sample(data[data['Groups']==1],\"WPM\")\n",
        "group2 = gen_sample(data[data['Groups']==2],\"WPM\")\n",
        "group3 = gen_sample(data[data['Groups']==3],\"WPM\")\n",
        "group4 = gen_sample(data[data['Groups']==4],\"WPM\")\n"
      ]
    },
    {
      "cell_type": "code",
      "execution_count": null,
      "metadata": {
        "id": "VAeyKA6gdDC3"
      },
      "outputs": [],
      "source": [
        "sample_female = pd.DataFrame(female,columns=[\"Average_WPM\"])\n",
        "sample_female[\"Gender\"] = \"Female\"\n",
        "sample_male = pd.DataFrame(male,columns=[\"Average_WPM\"])\n",
        "sample_male[\"Gender\"] = \"Male\"\n",
        "sample_ug = pd.DataFrame(ug,columns=[\"Average_WPM\"])\n",
        "sample_ug[\"Batch\"] = \"UG\"\n",
        "sample_masters = pd.DataFrame(masters,columns=[\"Average_WPM\"])\n",
        "sample_masters[\"Batch\"] = \"Masters\"\n",
        "sample_phd = pd.DataFrame(phd,columns=[\"Average_WPM\"])\n",
        "sample_phd[\"Batch\"] = \"PHD\" \n",
        "sample_group1 = pd.DataFrame(group1,columns=[\"Average_WPM\"])\n",
        "sample_group1[\"Groups\"] = 1 \n",
        "sample_group2 = pd.DataFrame(group2,columns=[\"Average_WPM\"])\n",
        "sample_group2[\"Groups\"] = 2\n",
        "sample_group3 = pd.DataFrame(group3,columns=[\"Average_WPM\"])\n",
        "sample_group3[\"Groups\"] = 3\n",
        "sample_group4 = pd.DataFrame(group4,columns=[\"Average_WPM\"])\n",
        "sample_group4[\"Groups\"] = 4"
      ]
    },
    {
      "cell_type": "code",
      "execution_count": null,
      "metadata": {
        "id": "cndBcQHod30f"
      },
      "outputs": [],
      "source": [
        "#We are going to use a confidence interval of 95% in the analysis\n",
        "alpha = 0.05"
      ]
    },
    {
      "cell_type": "markdown",
      "source": [
        "##**Summary of sample data**\n",
        "Below is the list of sample mean and sample variance of the 9 dataframes"
      ],
      "metadata": {
        "id": "vtrjxvVnyCe1"
      }
    },
    {
      "cell_type": "code",
      "execution_count": null,
      "metadata": {
        "id": "lsYEr50nae6A"
      },
      "outputs": [],
      "source": [
        "#calculate sample mean and variance\n",
        "def sample_calc(data,col_name):\n",
        "  mean_data = data[col_name].mean(axis=0) #calculates mean of sample\n",
        "  variance_data = data[col_name].var(axis=0) #calculates variance of sample\n",
        "  mean_var = [mean_data,variance_data]\n",
        "  return mean_var  #returns the mean and variance"
      ]
    },
    {
      "cell_type": "code",
      "source": [
        "[mean_male,var_male] = sample_calc(sample_male,\"Average_WPM\")\n",
        "[mean_female,var_female] = sample_calc(sample_female,\"Average_WPM\")\n",
        "[mean_ug,var_ug] = sample_calc(sample_ug,\"Average_WPM\")\n",
        "[mean_mas,var_mas] = sample_calc(sample_masters,\"Average_WPM\")\n",
        "[mean_phd,var_phd] = sample_calc(sample_phd,\"Average_WPM\")\n",
        "[mean_g1,var_g1] = sample_calc(sample_group1,\"Average_WPM\")\n",
        "[mean_g2,var_g2] = sample_calc(sample_group2,\"Average_WPM\")\n",
        "[mean_g3,var_g3] = sample_calc(sample_group3,\"Average_WPM\")\n",
        "[mean_g4,var_g4] = sample_calc(sample_group4,\"Average_WPM\")"
      ],
      "metadata": {
        "id": "Fy9jtywt5xK_"
      },
      "execution_count": null,
      "outputs": []
    },
    {
      "cell_type": "code",
      "source": [
        "print(\"mean of average WPM of males is:\",mean_male)\n",
        "print(\"mean of average WPM of  females is:\",mean_female)\n",
        "print(\"mean of average WPM of UG students is:\",mean_ug)\n",
        "print(\"mean of average WPM of Masters students is:\",mean_mas)\n",
        "print(\"mean of average WPM of PHD students is:\",mean_phd)\n",
        "print(\"mean of average WPM of Group1 students is:\",mean_g1)\n",
        "print(\"mean of average WPM of Group2 students is:\",mean_g2)\n",
        "print(\"mean of average WPM of Group3 students is:\",mean_g3)\n",
        "print(\"mean of averagef WPM of Group4 students is:\",mean_g4)\n",
        "print(\"\\n\")\n",
        "print(\"variance of average WPM of males is:\",var_male)\n",
        "print(\"variance of average WPM of females is:\",var_female)\n",
        "print(\"variance of average WPM of UG students is:\",var_ug)\n",
        "print(\"variance of average WPM of Masters students is:\",var_mas)\n",
        "print(\"variance of average WPM of PHD students is:\",var_phd)\n",
        "print(\"variance of average WPM of Group1 students is:\",var_g1)\n",
        "print(\"variance of average WPM of Group2 students is:\",var_g2)\n",
        "print(\"variance of average WPM of Group3 students is:\",var_g3)\n",
        "print(\"variance of average WPM of Group4 students is:\",var_g4)"
      ],
      "metadata": {
        "colab": {
          "base_uri": "https://localhost:8080/"
        },
        "id": "H0D5qI4D5xSM",
        "outputId": "375dcf05-e7a7-4edd-9649-89549bd9c679"
      },
      "execution_count": null,
      "outputs": [
        {
          "output_type": "stream",
          "name": "stdout",
          "text": [
            "mean of average WPM of males is: 58.261453333333336\n",
            "mean of average WPM of  females is: 50.529166666666676\n",
            "mean of average WPM of UG students is: 56.85333333333334\n",
            "mean of average WPM of Masters students is: 56.35172000000001\n",
            "mean of average WPM of PHD students is: 54.2545\n",
            "mean of average WPM of Group1 students is: 63.2705\n",
            "mean of average WPM of Group2 students is: 45.387\n",
            "mean of average WPM of Group3 students is: 53.85316666666666\n",
            "mean of averagef WPM of Group4 students is: 55.13466666666666\n",
            "\n",
            "\n",
            "variance of average WPM of males is: 15.35923269476992\n",
            "variance of average WPM of females is: 4.2122748316498315\n",
            "variance of average WPM of UG students is: 19.310454545454544\n",
            "variance of average WPM of Masters students is: 12.556594461773296\n",
            "variance of average WPM of PHD students is: 5.272776964085297\n",
            "variance of average WPM of Group1 students is: 16.523910521885522\n",
            "variance of average WPM of Group2 students is: 4.506664309764308\n",
            "variance of average WPM of Group3 students is: 11.060207707070708\n",
            "variance of average WPM of Group4 students is: 2.9274953984287335\n"
          ]
        }
      ]
    },
    {
      "cell_type": "markdown",
      "source": [
        "##**Data Visualization**\n",
        "The Data has been visualized in 3 categories\n",
        "* Gender\n",
        "* Batch\n",
        "* Branch\n",
        "\n",
        "Histograms and box plots have been plotted for each category\n"
      ],
      "metadata": {
        "id": "txqfXK1kMJb0"
      }
    },
    {
      "cell_type": "code",
      "source": [
        "import random\n",
        "import numpy\n",
        "import matplotlib.pyplot as plt\n",
        "import seaborn as sns\n",
        "\n",
        "def plot(lis,labels,num_bins):\n",
        "  li=[]\n",
        "  for i in lis:\n",
        "    li.append(i['Average_WPM'].to_numpy())\n",
        "  \n",
        "  plt.style.use('seaborn-deep')\n",
        "\n",
        "  bins = np.linspace(40, 80, num_bins)\n",
        "\n",
        "  #print(bins,sf,sm)\n",
        "  plt.hist(li, bins, label=labels)\n",
        "  plt.legend(loc='upper right')\n",
        "  plt.show()\n",
        "\n",
        "def box_plot(lis,labels):\n",
        "  both = pd.concat(lis)\n",
        "  ax = sns.boxplot(x=labels,y =\"Average_WPM\",data=both)\n",
        "  plt.show()"
      ],
      "metadata": {
        "id": "OG6UbbTgMICH"
      },
      "execution_count": null,
      "outputs": []
    },
    {
      "cell_type": "markdown",
      "source": [
        "###Gender Based"
      ],
      "metadata": {
        "id": "Oi7no9mBPV8-"
      }
    },
    {
      "cell_type": "code",
      "source": [
        "plot([sample_female,sample_male],['female','male'],20)\n",
        "box_plot([sample_male, sample_female],\"Gender\")"
      ],
      "metadata": {
        "colab": {
          "base_uri": "https://localhost:8080/",
          "height": 527
        },
        "id": "GxiGaXYSOeau",
        "outputId": "f95dbc48-0f9e-41ad-e68a-573cabccab87"
      },
      "execution_count": null,
      "outputs": [
        {
          "output_type": "display_data",
          "data": {
            "text/plain": [
              "<Figure size 432x288 with 1 Axes>"
            ],
            "image/png": "[encoded data removed]"
          },
          "metadata": {
            "needs_background": "light"
          }
        },
        {
          "output_type": "display_data",
          "data": {
            "text/plain": [
              "<Figure size 432x288 with 1 Axes>"
            ],
            "image/png": "[encoded data removed]"
          },
          "metadata": {
            "needs_background": "light"
          }
        }
      ]
    },
    {
      "cell_type": "markdown",
      "source": [
        "###Inference:\n",
        "1. Histogram Plot:\n",
        " * Average WPM of Males is higher than that of females\n",
        " * Females have a higher frequency than males for lower average WPM, and only males seem to cover an average WPM of greater than 55\n",
        "2. Box Plot:\n",
        " * Males have wider spread of average WPM as compared to females."
      ],
      "metadata": {
        "id": "1j-xDbw3Pwh2"
      }
    },
    {
      "cell_type": "markdown",
      "source": [
        "###Batch Based"
      ],
      "metadata": {
        "id": "JT-afSkvPwqu"
      }
    },
    {
      "cell_type": "code",
      "source": [
        "plot([sample_ug,sample_masters,sample_phd],['UG','Masters','PHD'],20)\n",
        "box_plot([sample_ug,sample_masters,sample_phd],\"Batch\")"
      ],
      "metadata": {
        "colab": {
          "base_uri": "https://localhost:8080/",
          "height": 527
        },
        "id": "Dio9ny21Oeo3",
        "outputId": "1d88cbc0-1985-4f17-b0ac-83e421e72135"
      },
      "execution_count": null,
      "outputs": [
        {
          "output_type": "display_data",
          "data": {
            "text/plain": [
              "<Figure size 432x288 with 1 Axes>"
            ],
            "image/png": "[encoded data removed]"
          },
          "metadata": {
            "needs_background": "light"
          }
        },
        {
          "output_type": "display_data",
          "data": {
            "text/plain": [
              "<Figure size 432x288 with 1 Axes>"
            ],
            "image/png": "[encoded data removed]"
          },
          "metadata": {
            "needs_background": "light"
          }
        }
      ]
    },
    {
      "cell_type": "markdown",
      "source": [
        "###Inference:\n",
        "1. Histogram Plot:\n",
        " * The average WPM across batches for various groups is comparable.\n",
        "2. Box Plot:\n",
        " * UG students have a wider spread of avergae WPM as compared to the other two batches but the medians are comparable"
      ],
      "metadata": {
        "id": "iAoVg0KYP5dN"
      }
    },
    {
      "cell_type": "markdown",
      "source": [
        "###Branch Based"
      ],
      "metadata": {
        "id": "4rtbc8txP5gn"
      }
    },
    {
      "cell_type": "code",
      "source": [
        "plot([sample_group1,sample_group2,sample_group3,sample_group4],['group1','group2','group3','group4'],20)\n",
        "box_plot([sample_group1,sample_group2,sample_group3,sample_group4],\"Groups\")"
      ],
      "metadata": {
        "colab": {
          "base_uri": "https://localhost:8080/",
          "height": 527
        },
        "id": "_-lVgTTfOezd",
        "outputId": "3269ad68-5df1-4215-f6ce-52a57121f472"
      },
      "execution_count": null,
      "outputs": [
        {
          "output_type": "display_data",
          "data": {
            "text/plain": [
              "<Figure size 432x288 with 1 Axes>"
            ],
            "image/png": "[encoded data removed]"
          },
          "metadata": {
            "needs_background": "light"
          }
        },
        {
          "output_type": "display_data",
          "data": {
            "text/plain": [
              "<Figure size 432x288 with 1 Axes>"
            ],
            "image/png": "[encoded data removed]"
          },
          "metadata": {
            "needs_background": "light"
          }
        }
      ]
    },
    {
      "cell_type": "markdown",
      "source": [
        "###Inference:\n",
        "1. Histogram Plot:\n",
        " * Group 1 has highest average WPM across various groups while group 2 has the least.\n",
        "2. Box Plot:\n",
        " * Group 1 and 3 have higher spread in average WPM as compared to other two groups.\n",
        " * Group 1 has three outliers in the average WPMs."
      ],
      "metadata": {
        "id": "3vYvBJPXP_tt"
      }
    },
    {
      "cell_type": "markdown",
      "source": [
        "##**Analyzing the Data**\n",
        "\n",
        "##Confidence interval estimation\n",
        "With the data of the sample, the quantities like population mean and variance can be estimated using the concept of Confidence Interval."
      ],
      "metadata": {
        "id": "3HWpHd64yfyH"
      }
    },
    {
      "cell_type": "markdown",
      "source": [
        "###Confidence Interval for Estimating Population Mean\n",
        "If $X_{1}, X_{2},..., X_{n}$ are normally distributed with an unknown mean $\\mu$ and unknown variance $\\sigma^2$, then a $(1 - \\alpha)100\\%$ Confidence interval for the population mean $\\mu$ is:\n",
        "\n",
        ">>>$\\left(\\bar{X} - t_{\\alpha/2,n-1}\\left(\\frac{S}{\\sqrt{n}}\\right), \\bar{X} + t_{\\alpha/2,n-1}\\left(\\frac{S}{\\sqrt{n}}\\right)\\right)$"
      ],
      "metadata": {
        "id": "wUttGsR3zFsV"
      }
    },
    {
      "cell_type": "code",
      "execution_count": null,
      "metadata": {
        "id": "FqCEZLhFdcDu"
      },
      "outputs": [],
      "source": [
        "#calculates confidence interval of population mean\n",
        "def sample_CI_mean(data,col_name):\n",
        "  n = len(data[col_name])\n",
        "  [mean,var] = sample_calc(data,col_name)\n",
        "  t=stats.t.ppf(q=1-alpha/2,df=n-1)\n",
        "  LI = mean - (t*(math.sqrt(var)/math.sqrt(n)))\n",
        "  RI = mean + (t*(math.sqrt(var)/math.sqrt(n)))\n",
        "  interval = [LI,RI]\n",
        "  return interval #returns the confidence interval "
      ]
    },
    {
      "cell_type": "code",
      "source": [
        "wpm_male_CI_mean=sample_CI_mean(sample_male,\"Average_WPM\")\n",
        "wpm_female_CI_mean=sample_CI_mean(sample_female,\"Average_WPM\")\n",
        "wpm_ug_CI_mean=sample_CI_mean(sample_ug,\"Average_WPM\")\n",
        "wpm_masters_CI_mean=sample_CI_mean(sample_masters,\"Average_WPM\")\n",
        "wpm_phd_CI_mean=sample_CI_mean(sample_phd,\"Average_WPM\")\n",
        "wpm_group1_CI_mean=sample_CI_mean(sample_group1,\"Average_WPM\")\n",
        "wpm_group2_CI_mean=sample_CI_mean(sample_group2,\"Average_WPM\")\n",
        "wpm_group3_CI_mean=sample_CI_mean(sample_group3,\"Average_WPM\")\n",
        "wpm_group4_CI_mean=sample_CI_mean(sample_group4,\"Average_WPM\")\n"
      ],
      "metadata": {
        "id": "-NTNjug26H0N"
      },
      "execution_count": null,
      "outputs": []
    },
    {
      "cell_type": "code",
      "source": [
        "print(\"CI for population mean of average WPM of male students is:\",wpm_male_CI_mean)\n",
        "print(\"CI for population mean of average WPM of female students is:\",wpm_female_CI_mean)\n",
        "print(\"CI for population mean of average WPM of UG students is:\",wpm_ug_CI_mean)\n",
        "print(\"CI for population mean of average WPM of Masters students is:\",wpm_masters_CI_mean)\n",
        "print(\"CI for population mean of average WPM of PHD students is:\",wpm_phd_CI_mean)\n",
        "print(\"CI for population mean of average WPM of group1 students is:\",wpm_group1_CI_mean)\n",
        "print(\"CI for population mean of average WPM of group2 students is:\",wpm_group2_CI_mean)\n",
        "print(\"CI for population mean of average WPM of group3 students is:\",wpm_group3_CI_mean)\n",
        "print(\"CI for population mean of average WPM of group4 students is:\",wpm_group4_CI_mean)"
      ],
      "metadata": {
        "colab": {
          "base_uri": "https://localhost:8080/"
        },
        "id": "J4kkj9Ax6M0O",
        "outputId": "03036857-ee79-4cba-924b-2721c752fe00"
      },
      "execution_count": null,
      "outputs": [
        {
          "output_type": "stream",
          "name": "stdout",
          "text": [
            "CI for population mean of average WPM of male students is: [57.48382170603636, 59.03908496063031]\n",
            "CI for population mean of average WPM of female students is: [50.121929408154976, 50.936403925178375]\n",
            "CI for population mean of average WPM of UG students is: [55.981395737267356, 57.72527092939932]\n",
            "CI for population mean of average WPM of Masters students is: [55.648607061734204, 57.05483293826581]\n",
            "CI for population mean of average WPM of PHD students is: [53.79887362508949, 54.71012637491051]\n",
            "CI for population mean of average WPM of group1 students is: [62.4639234844365, 64.0770765155635]\n",
            "CI for population mean of average WPM of group2 students is: [44.96577245739843, 45.80822754260157]\n",
            "CI for population mean of average WPM of group3 students is: [53.193277806335935, 54.513055526997384]\n",
            "CI for population mean of average WPM of group4 students is: [54.795168630751625, 55.474164702581696]\n"
          ]
        }
      ]
    },
    {
      "cell_type": "markdown",
      "source": [
        "###Confidence Interval for estimating population variance\n",
        "If $X_1, X_2,..., X_n$ are normally distributed and $a = \\chi^2_{1-\\alpha/2,n-1}$, $b = \\chi^2_{\\alpha/2,n-1}$, then  $(1 - \\alpha)100\\%$ CI for the population variance $\\sigma^2$ is:\n",
        ">>>$ \\left(\\dfrac{(n-1)S^2}{b}, \\dfrac{(n-1)S^2}{a}\\right)$"
      ],
      "metadata": {
        "id": "s4jdK_zUDlSg"
      }
    },
    {
      "cell_type": "code",
      "execution_count": null,
      "metadata": {
        "id": "avDcp9j9M7mG"
      },
      "outputs": [],
      "source": [
        "#calculate confidence interval for variance\n",
        "def sample_CI_var(data,col_name):\n",
        "  n = len(data[col_name])\n",
        "  [mean,var] = sample_calc(data,col_name)\n",
        "  a = stats.chi2.ppf(1-alpha/2, n-1)\n",
        "  b = stats.chi2.ppf(alpha/2, n-1)\n",
        "  CI_var = (n-1)*var/a, (n-1)*var/b\n",
        "  return CI_var"
      ]
    },
    {
      "cell_type": "code",
      "source": [
        "wpm_male_CI_var=sample_CI_var(sample_male,\"Average_WPM\")\n",
        "wpm_female_CI_var=sample_CI_var(sample_female,\"Average_WPM\")\n",
        "wpm_ug_CI_var=sample_CI_var (sample_ug,\"Average_WPM\")\n",
        "wpm_masters_CI_var=sample_CI_var(sample_masters,\"Average_WPM\")\n",
        "wpm_phd_CI_var=sample_CI_var(sample_phd,\"Average_WPM\")\n",
        "wpm_group1_CI_var=sample_CI_var(sample_group1,\"Average_WPM\")\n",
        "wpm_group2_CI_var=sample_CI_var(sample_group2,\"Average_WPM\")\n",
        "wpm_group3_CI_var=sample_CI_var(sample_group3,\"Average_WPM\")\n",
        "wpm_group4_CI_var=sample_CI_var(sample_group4,\"Average_WPM\")"
      ],
      "metadata": {
        "id": "PTQdqEWh6VtW"
      },
      "execution_count": null,
      "outputs": []
    },
    {
      "cell_type": "code",
      "source": [
        "print(\"CI for variance of average WPM of male students is:\",wpm_male_CI_var)\n",
        "print(\"CI for variance of average WPM of female students is:\",wpm_female_CI_var)\n",
        "print(\"CI for variance of average WPM of UG students is:\",wpm_ug_CI_var)\n",
        "print(\"CI for variance of average WPM of Masters students is:\",wpm_masters_CI_var)\n",
        "print(\"CI for variance of average WPM of PHD students is:\",wpm_phd_CI_var)\n",
        "print(\"CI for variance of average WPM of Group1 students is:\",wpm_group1_CI_var)\n",
        "print(\"CI for variance of average WPM of Group2 students is:\",wpm_group2_CI_var)\n",
        "print(\"CI for variance of average WPM of Group3 students is:\",wpm_group3_CI_var)\n",
        "print(\"CI for variance of average WPM of Group4 students is:\",wpm_group4_CI_var)"
      ],
      "metadata": {
        "colab": {
          "base_uri": "https://localhost:8080/"
        },
        "id": "9MgVBnF26Vz5",
        "outputId": "86114bb6-89f9-4f67-8bc9-4640d01579a5"
      },
      "execution_count": null,
      "outputs": [
        {
          "output_type": "stream",
          "name": "stdout",
          "text": [
            "CI for variance of average WPM of male students is: (11.84037136349979, 20.72712169473871)\n",
            "CI for variance of average WPM of female students is: (3.247225905291533, 5.6844202299911135)\n",
            "CI for variance of average WPM of UG students is: (14.886352564605728, 26.059253694401583)\n",
            "CI for variance of average WPM of Masters students is: (9.679828702568383, 16.94499111073959)\n",
            "CI for variance of average WPM of PHD students is: (4.064762778998456, 7.115556615079203)\n",
            "CI for variance of average WPM of Group1 students is: (12.738216865676376, 22.298842075406498)\n",
            "CI for variance of average WPM of Group2 students is: (3.474169582469445, 6.081695709814214)\n",
            "CI for variance of average WPM of Group3 students is: (8.526270108125438, 14.925633048817849)\n",
            "CI for variance of average WPM of Group4 students is: (2.2567945529034272, 3.950624005109449)\n"
          ]
        }
      ]
    },
    {
      "cell_type": "markdown",
      "source": [
        "###Confidence Interval for estimating difference of population means\n",
        "####Welch’s t-interval\n",
        "If $X_1,X_2,...,X_n \\sim N(\\mu_1,\\sigma_X^2)$ and $Y_1,Y_2,...,Y_m \\sim N(\\mu_2,\\sigma_Y^2)$ are independent random samples with unequal population variance, then a $(1 - \\alpha)100\\%$ CI for the difference in the population means, $\\mu_1-\\mu_2$ is: \n",
        ">>>$\\left((\\bar{X}-\\bar{Y})-t_{\\alpha/2,r}\\sqrt{\\frac{S_X^2}{n}+\\frac{S_Y^2}{m}}, \\ (\\bar{X}-\\bar{Y})+t_{\\alpha/2,r}\\sqrt{\\frac{S_X^2}{n}+\\frac{S_Y^2}{m}}\\right)$\n",
        "\n",
        ">>>Where $r$ = integer part of $\\dfrac{\\left(\\frac{S_X^2}{n}+\\frac{S_Y^2}{m}\\right)^2}{\\frac{\\left(S_X^2/n\\right)^2}{n-1} + \\frac{\\left(S_Y^2/m\\right)^2}{m-1}}$\n",
        "        "
      ],
      "metadata": {
        "id": "rpvpzqNH16eK"
      }
    },
    {
      "cell_type": "code",
      "execution_count": null,
      "metadata": {
        "id": "c14Q6MXsgCXN"
      },
      "outputs": [],
      "source": [
        "# calculates confidence interval difference of the two population means\n",
        "def diff_two_means(data_1,col_name_1,data_2,col_name_2):\n",
        "  n1 = len(data_1[col_name_1])\n",
        "  n2 = len(data_2[col_name_2])\n",
        "  [mean_1,var_1] = sample_calc(data_1,col_name_1)   \n",
        "  [mean_2,var_2] = sample_calc(data_2,col_name_2)\n",
        "  p = var_1/n1\n",
        "  q = var_2/n2\n",
        "  r = int((p+q)**2/((p**2/(n1-1))+(q**2/(n2-1))))\n",
        "  t=stats.t.ppf(q=1-alpha/2,df=r)\n",
        "  LI = (mean_1-mean_2) - t*(math.sqrt(p+q))\n",
        "  RI = (mean_1-mean_2) + t*(math.sqrt(p+q))\n",
        "  interval = [LI,RI]\n",
        "  return interval #returns confidence interval"
      ]
    },
    {
      "cell_type": "code",
      "source": [
        "wpm_gender_diff_two_means=diff_two_means(sample_male,\"Average_WPM\",sample_female,\"Average_WPM\")\n",
        "wpm_ug_masters_diff_two_means=diff_two_means(sample_ug,\"Average_WPM\",sample_masters,\"Average_WPM\")\n",
        "wpm_ug_phd_diff_two_means=diff_two_means(sample_ug,\"Average_WPM\",sample_phd,\"Average_WPM\")\n",
        "wpm_masters_phd_diff_two_means=diff_two_means(sample_masters,\"Average_WPM\",sample_phd,\"Average_WPM\")\n",
        "wpm_group1_group2_diff_two_means=diff_two_means(sample_group1,\"Average_WPM\",sample_group2,\"Average_WPM\")\n",
        "wpm_group1_group3_diff_two_means=diff_two_means(sample_group1,\"Average_WPM\",sample_group3,\"Average_WPM\")\n",
        "wpm_group1_group4_diff_two_means=diff_two_means(sample_group1,\"Average_WPM\",sample_group4,\"Average_WPM\")\n",
        "wpm_group2_group3_diff_two_means=diff_two_means(sample_group2,\"Average_WPM\",sample_group3,\"Average_WPM\")\n",
        "wpm_group2_group4_diff_two_means=diff_two_means(sample_group2,\"Average_WPM\",sample_group4,\"Average_WPM\")\n",
        "wpm_group3_group4_diff_two_means=diff_two_means(sample_group3,\"Average_WPM\",sample_group4,\"Average_WPM\")"
      ],
      "metadata": {
        "id": "31CTIsiV6jhF"
      },
      "execution_count": null,
      "outputs": []
    },
    {
      "cell_type": "code",
      "source": [
        "print(\"CI of difference of population means of average WPM of Males and females:\",wpm_gender_diff_two_means)\n",
        "print(\"\\n\")\n",
        "print(\"CI of difference of population means of average WPM of UG and Masters:\",wpm_ug_masters_diff_two_means)\n",
        "print(\"CI of difference of population means of average WPM of UG and PHD:\",wpm_ug_phd_diff_two_means)\n",
        "print(\"CI of difference of population means of average WPM of Masters and PHD:\",wpm_masters_phd_diff_two_means)\n",
        "print(\"\\n\")\n",
        "print(\"CI of difference of population means of average WPM of group1 and group2:\",wpm_group1_group2_diff_two_means)\n",
        "print(\"CI of difference of population means of average WPM of group1 and group3:\",wpm_group1_group3_diff_two_means)\n",
        "print(\"CI of difference of population means of average WPM of group1 and group4:\",wpm_group1_group4_diff_two_means)\n",
        "print(\"CI of difference of population means of average WPM of group2 and group3:\",wpm_group2_group3_diff_two_means)\n",
        "print(\"CI of difference of population means of average WPM of group2 and group4:\",wpm_group2_group4_diff_two_means)\n",
        "print(\"CI of difference of population means of average WPM of group3 and group4:\",wpm_group3_group4_diff_two_means)"
      ],
      "metadata": {
        "colab": {
          "base_uri": "https://localhost:8080/"
        },
        "id": "IP09I16k6jol",
        "outputId": "9e92508b-ed1b-4ded-a8c3-5d8307cece35"
      },
      "execution_count": null,
      "outputs": [
        {
          "output_type": "stream",
          "name": "stdout",
          "text": [
            "CI of difference of population means of average WPM of Males and females: [6.858104432670078, 8.606468900663241]\n",
            "\n",
            "\n",
            "CI of difference of population means of average WPM of UG and Masters: [-0.6119344801842117, 1.6151611468508746]\n",
            "CI of difference of population means of average WPM of UG and PHD: [1.6190967564463947, 3.5785699102202826]\n",
            "CI of difference of population means of average WPM of Masters and PHD: [1.2636592377387386, 2.930780762261276]\n",
            "\n",
            "\n",
            "CI of difference of population means of average WPM of group1 and group2: [16.97731804811756, 18.789681951882436]\n",
            "CI of difference of population means of average WPM of group1 and group3: [8.38134999771158, 10.453316668955098]\n",
            "CI of difference of population means of average WPM of group1 and group4: [7.263478280871958, 9.008188385794718]\n",
            "CI of difference of population means of average WPM of group2 and group3: [-9.245078976210449, -7.687254357122868]\n",
            "CI of difference of population means of average WPM of group2 and group4: [-10.285507645695652, -9.209825687637668]\n",
            "CI of difference of population means of average WPM of group3 and group4: [-2.020613981588971, -0.5423860184110312]\n"
          ]
        }
      ]
    },
    {
      "cell_type": "markdown",
      "source": [
        "###Confidence Interval for estimating ratio of population variance\n",
        "If $X_1, X_2,..., X_n \\sim N(\\mu_X,\\sigma_X^2)$ and $Y_1,Y_2,...,Y_m \\sim N(\\mu_Y,\\sigma_Y^2)$ are independent samples and $c = F_{\\alpha/2}(m-1, n-1)$, $d = F_{1-\\alpha/2}(m-1, n-1)$,then the ratio of population variance lies in the interval:\n",
        "\n",
        ">>>$\\left(c\\dfrac{S_X^2}{S_Y^2},\\  d\\dfrac{S_X^2}{S_Y^2}\\right)$"
      ],
      "metadata": {
        "id": "F3KOTFYUD_EC"
      }
    },
    {
      "cell_type": "code",
      "execution_count": null,
      "metadata": {
        "id": "SmPkYBPcM9Rt"
      },
      "outputs": [],
      "source": [
        "#calculate confidence interval for ratio of the variance\n",
        "def ratio_two_var(data_1,col_name_1,data_2,col_name_2):\n",
        "  n1 = len(data_1[col_name_1])\n",
        "  n2 = len(data_2[col_name_2])\n",
        "  [mean1,var1] = sample_calc(data_1,col_name_1)   \n",
        "  [mean2,var2] = sample_calc(data_2,col_name_2)\n",
        "  c1=stats.f.ppf(alpha/2,n2-1,n1-1)\n",
        "  d1=stats.f.ppf(1-alpha/2,n2-1,n1-1)\n",
        "  LI_ratio=c1*(var1/var2)\n",
        "  RI_ratio=d1*(var1/var2)\n",
        "  CI=LI_ratio,RI_ratio\n",
        "  return CI"
      ]
    },
    {
      "cell_type": "code",
      "source": [
        "wpm_gender_ratio_two_var=ratio_two_var(sample_male,\"Average_WPM\",sample_female,\"Average_WPM\")\n",
        "wpm_ug_masters_ratio_two_var=ratio_two_var(sample_ug,\"Average_WPM\",sample_masters ,\"Average_WPM\")\n",
        "wpm_ug_phd_ratio_two_var=ratio_two_var(sample_ug,\"Average_WPM\",sample_phd ,\"Average_WPM\")\n",
        "wpm_phd_masters_ratio_two_var=ratio_two_var(sample_phd,\"Average_WPM\",sample_masters ,\"Average_WPM\")\n",
        "wpm_group1_group2_ratio_two_var=ratio_two_var(sample_group1,\"Average_WPM\",sample_group2 ,\"Average_WPM\")\n",
        "wpm_group1_group3_ratio_two_var=ratio_two_var(sample_group1,\"Average_WPM\",sample_group3 ,\"Average_WPM\")\n",
        "wpm_group1_group4_ratio_two_var=ratio_two_var(sample_group1,\"Average_WPM\",sample_group4 ,\"Average_WPM\")\n",
        "wpm_group2_group3_ratio_two_var=ratio_two_var(sample_group2,\"Average_WPM\",sample_group3 ,\"Average_WPM\")\n",
        "wpm_group2_group4_ratio_two_var=ratio_two_var(sample_group2,\"Average_WPM\",sample_group4 ,\"Average_WPM\")\n",
        "wpm_group3_group4_ratio_two_var=ratio_two_var(sample_group3,\"Average_WPM\",sample_group4 ,\"Average_WPM\")"
      ],
      "metadata": {
        "id": "xmoIwRNa7Rd9"
      },
      "execution_count": null,
      "outputs": []
    },
    {
      "cell_type": "code",
      "source": [
        "print(\"ratio of variances of average WPM of male and females is:\",wpm_gender_ratio_two_var)\n",
        "print(\"\\n\")\n",
        "print(\"ratio of variances of average WPM of UG and Masters is:\",wpm_ug_masters_ratio_two_var)\n",
        "print(\"ratio of variances of average WPM of UG and PHD is:\",wpm_ug_phd_ratio_two_var)\n",
        "print(\"ratio of variances of average WPM of PHD and Masters is:\",wpm_phd_masters_ratio_two_var)\n",
        "print(\"\\n\")\n",
        "print(\"ratio of variances of average WPM of group1 and group2 is:\",wpm_group1_group2_ratio_two_var)\n",
        "print(\"ratio of variances of average WPM of group1 and group3 is:\",wpm_group1_group3_ratio_two_var)\n",
        "print(\"ratio of variances of average WPM of group1 and group4 is:\",wpm_group1_group4_ratio_two_var)\n",
        "print(\"ratio of variances of average WPM of group2 and group3 is:\",wpm_group2_group3_ratio_two_var)\n",
        "print(\"ratio of variances of average WPM of group2 and group4 is:\",wpm_group2_group4_ratio_two_var)\n",
        "print(\"ratio of variances of average WPM of group3 and group4 is:\",wpm_group3_group4_ratio_two_var)"
      ],
      "metadata": {
        "colab": {
          "base_uri": "https://localhost:8080/"
        },
        "id": "dj8BSVrS7RlF",
        "outputId": "54a1fd45-0368-4f5f-bfd3-99996916da5e"
      },
      "execution_count": null,
      "outputs": [
        {
          "output_type": "stream",
          "name": "stdout",
          "text": [
            "ratio of variances of average WPM of male and females is: (2.453384948448634, 5.419259470956332)\n",
            "\n",
            "\n",
            "ratio of variances of average WPM of UG and Masters is: (1.034745399451319, 2.2856396056195405)\n",
            "ratio of variances of average WPM of UG and PHD is: (2.464143361381451, 5.443023630435461)\n",
            "ratio of variances of average WPM of PHD and Masters is: (0.2825403044282263, 0.6241006824745376)\n",
            "\n",
            "\n",
            "ratio of variances of average WPM of group1 and group2 is: (2.4670076741268057, 5.449350584541403)\n",
            "ratio of variances of average WPM of group1 and group3 is: (1.005223023957705, 2.220427901642933)\n",
            "ratio of variances of average WPM of group1 and group4 is: (3.7977772545327486, 8.388875283604944)\n",
            "ratio of variances of average WPM of group2 and group3 is: (0.27416044884916296, 0.6055904964799584)\n",
            "ratio of variances of average WPM of group2 and group4 is: (1.0357903588722903, 2.28794780688345)\n",
            "ratio of variances of average WPM of group3 and group4 is: (2.542025702976749, 5.6150572192032815)\n"
          ]
        }
      ]
    },
    {
      "cell_type": "code",
      "source": [
        "sample_male.name=\"sample_male\"\n",
        "sample_female.name=\"sample_female\"\n",
        "sample_ug.name=\"sample_ug\"\n",
        "sample_masters.name=\"sample_masters\"\n",
        "sample_phd.name = \"sample_phd\"\n",
        "sample_group1.name = \"sample_group1\"\n",
        "sample_group2.name = \"sample_group2\"\n",
        "sample_group3.name = \"sample_group3\"\n",
        "sample_group4.name = \"sample_group4\""
      ],
      "metadata": {
        "id": "eTsBADcT07pU"
      },
      "execution_count": null,
      "outputs": []
    },
    {
      "cell_type": "markdown",
      "source": [
        "##**Hypothesis Testing**\n",
        "Hypothesis testing is a form of statistical inference that uses data from a sample to draw conclusions about a population parameter or a population probability distribution.\n",
        "\n",
        "Test for $\\mu_1 - \\mu_2$: Independent Samples, Unequal Variances\n",
        "The sample means ($\\mu_1$) and ($\\mu_2$) are independent and the variance is assumed to be unequal. So if we are performing **Left-tailed test**: $$    Null Hypothesis (H_0): \\mu_1\\geq\\mu_2$$      $$Alternative Hypothesis (H_a):\\mu_1<\\mu_2 $$\n",
        "The **Test Statistic (TS)** is:$$ t' = \\frac{\\bar{x_1} - \\bar{x_2}}{\\sqrt{\\frac{s_1^2}{n_1}+\\frac{s_2^2}{n_2}}}$$ Now, $$df = \\frac{(n_1 - 1)(n_2 - 1)}{(1-c)^2(n_1 - 1) + c^2(n_2 - 1)} \\quad \\text{where} \\quad c = \\frac{\\frac{s_1^2}{n_1}}{\\frac{s_1^2}{n_1}+\\frac{s_2^2}{n_2}}$$\n",
        "and df represents degree of freedom. \\\\\n",
        "\n",
        "Using p-value approach, we find the p-value for the test statistic (TS) by using t-distribution table and if$$    p-value \\leq\\alpha : \\text{Reject } H_0$$\n",
        "   $$ p-value > \\alpha : \\text{Fail to reject }H_0$$"
      ],
      "metadata": {
        "id": "MiRgSxqkEGcN"
      }
    },
    {
      "cell_type": "markdown",
      "source": [
        "For comparing variances $\\sigma_1^2,\\  \\sigma_2^2$, we are performing the Two tailed test:\n",
        "$$  Null Hypothesis (H_0): \\sigma_1^2 = \\sigma_2^2$$        $$Alternative Hypothesis (H_a): \\sigma_1^2 \\neq \\sigma_2^2 $$\n",
        "The Test Statistic (TS) is:$$F = \\frac{s_1^2}{s_2^2}$$\n",
        "For a significance level $\\alpha$, with $df_1 = n_1-1$ and $df_2 = n_2-1$, if\n",
        "$$ F\\leq F_{1-\\alpha/2,df_1,df_2} or F\\geq F_{\\alpha/2,df_1,df_2}: \\text{Reject }H_0$$\n",
        "$$F_{1-\\alpha/2,df_1,df_2} < F < F_{\\alpha/2,df_1,df_2} : \\text{Fail to reject } H_0$$"
      ],
      "metadata": {
        "id": "9J6nMmS8GXaF"
      }
    },
    {
      "cell_type": "code",
      "execution_count": null,
      "metadata": {
        "id": "Ax8EccNHM93t"
      },
      "outputs": [],
      "source": [
        "def hypo_test(data_1,col_name_1,data_2,col_name_2):\n",
        "  # using two sample t test\n",
        "  n1 = len(data_1[col_name_1])\n",
        "  n2 = len(data_2[col_name_2])\n",
        "  [mean1,var1] = sample_calc(data_1,col_name_1)   \n",
        "  [mean2,var2] = sample_calc(data_2,col_name_2)\n",
        "  t = (mean1 - mean2)  / np.sqrt(var1/n1 + var2/n2) \n",
        "  df=int((var1/n1+var2/n2)**2/((var1/n1)**2/(n1-1)+(var2/n2)**2/(n2-1)))\n",
        "  if (1- stats.t.cdf(t, df))<=0.05:\n",
        "    print(\"Hypothesis that mean typing speed of {} > {} is rejected\".format(data_2.name,data_1.name))\n",
        "  else:\n",
        "    print(\"Cannot reject null hypothesis\")\n",
        "  # using two samplef f test\n",
        "  if (var2/var1 >=stats.f.ppf(1-alpha/2, n1-1,n2-1) or var2/var1 <=stats.f.ppf(alpha/2, n1-1,n2-1) ):\n",
        "    print(\"Reject claim that s1 and s2 have equal variance\")\n",
        "  else:\n",
        "    print(\"Cannot reject Null hypothesis that s1 and s2 have eqaul variance\")"
      ]
    },
    {
      "cell_type": "markdown",
      "source": [
        "###Case-1: Gender Based\n",
        "\n",
        "* Null Hypothesis: population mean for average WPM for females is greater than or equal to males\n",
        "* Alternative Hypothesis: population mean for average WPM of females is less than males \n",
        "---\n",
        "* Null Hypothesis: population variance of average WPM for males and females are equal\n",
        "* Alternative Hypothesis: population variance of average WPM for males and females are not equal\n"
      ],
      "metadata": {
        "id": "qwUUpVbPCkCi"
      }
    },
    {
      "cell_type": "code",
      "source": [
        "wpm_gender_hypo_test=hypo_test(sample_male,\"Average_WPM\",sample_female,\"Average_WPM\")\n",
        "wpm_gender_hypo_test"
      ],
      "metadata": {
        "colab": {
          "base_uri": "https://localhost:8080/"
        },
        "id": "wi4gQHq0Ic4m",
        "outputId": "361b621a-04f2-40a0-fa8c-e34fe0a1a483"
      },
      "execution_count": null,
      "outputs": [
        {
          "output_type": "stream",
          "name": "stdout",
          "text": [
            "Hypothesis that mean typing speed of sample_female > sample_male is rejected\n",
            "Reject claim that s1 and s2 have equal variance\n"
          ]
        }
      ]
    },
    {
      "cell_type": "markdown",
      "source": [
        "####**Conclusion**\n",
        "* The average typing speed ( average WPM) of male is greater is than\n",
        "average typing speed ( average WPM) of female.\n",
        "* males and females have different variance for  average WPM"
      ],
      "metadata": {
        "id": "NB-wBDZaD79N"
      }
    },
    {
      "cell_type": "markdown",
      "source": [
        "###Case-2: Batch Based\n",
        "* Null Hypothesis: population mean for average WPM for Masters is greater than or equal to UG \n",
        "* Alternative Hypothesis: population mean for average WPM of Masters is less than UG \n",
        "\n",
        "\n",
        "* Null Hypothesis: population mean for average WPM for PHD is greater than or equal to UG \n",
        "* Alternative Hypothesis: population mean for average WPM of PHD is less than UG \n",
        "\n",
        "\n",
        "* Null Hypothesis: population mean for average WPM for PHD is greater than or equal to Masters \n",
        "* Alternative Hypothesis: population mean for average WPM of PHD is less than Masters\n",
        "---\n",
        "* Null Hypothesis: population variance of average WPM for UG and Masters are equal\n",
        "* Alternative Hypothesis: population variance of average WPM for UG and Masters are not equal\n",
        "\n",
        "\n",
        "* Null Hypothesis: population variance of average WPM for UG and Masters are equal\n",
        "* Alternative Hypothesis: population variance of average WPM for UG and Masters are not equal\n",
        "\n",
        "\n",
        "* Null Hypothesis: population variance of average WPM for UG and Masters are equal\n",
        "* Alternative Hypothesis: population variance of average WPM for UG and Masters are not equal"
      ],
      "metadata": {
        "id": "JR-wwh0pEkLA"
      }
    },
    {
      "cell_type": "code",
      "source": [
        "wpm_ug_masters_hypo_test=hypo_test(sample_ug,\"Average_WPM\",sample_masters,\"Average_WPM\")\n",
        "wpm_ug_masters_hypo_test"
      ],
      "metadata": {
        "colab": {
          "base_uri": "https://localhost:8080/"
        },
        "id": "gerzU_BjIwh6",
        "outputId": "cb00fd83-ab95-47c4-c72c-9aa704f50cf6"
      },
      "execution_count": null,
      "outputs": [
        {
          "output_type": "stream",
          "name": "stdout",
          "text": [
            "Cannot reject null hypothesis\n",
            "Reject claim that s1 and s2 have equal variance\n"
          ]
        }
      ]
    },
    {
      "cell_type": "code",
      "source": [
        "wpm_ug_phd_hypo_test=hypo_test(sample_ug,\"Average_WPM\",sample_phd,\"Average_WPM\")\n",
        "wpm_ug_phd_hypo_test"
      ],
      "metadata": {
        "colab": {
          "base_uri": "https://localhost:8080/"
        },
        "id": "7NFEMDjtIy7B",
        "outputId": "d4ec892c-8841-4ad2-da51-4e53523468f9"
      },
      "execution_count": null,
      "outputs": [
        {
          "output_type": "stream",
          "name": "stdout",
          "text": [
            "Hypothesis that mean typing speed of sample_phd > sample_ug is rejected\n",
            "Reject claim that s1 and s2 have equal variance\n"
          ]
        }
      ]
    },
    {
      "cell_type": "code",
      "source": [
        "wpm_masters_phd_hypo_test=hypo_test(sample_masters,\"Average_WPM\",sample_phd,\"Average_WPM\")\n",
        "wpm_masters_phd_hypo_test"
      ],
      "metadata": {
        "colab": {
          "base_uri": "https://localhost:8080/"
        },
        "id": "xTlbkfzMJDM8",
        "outputId": "6584c0ca-c230-4016-a4ab-147a62147e1b"
      },
      "execution_count": null,
      "outputs": [
        {
          "output_type": "stream",
          "name": "stdout",
          "text": [
            "Hypothesis that mean typing speed of sample_phd > sample_masters is rejected\n",
            "Reject claim that s1 and s2 have equal variance\n"
          ]
        }
      ]
    },
    {
      "cell_type": "markdown",
      "source": [
        "####**Conclusions**\n",
        "Batch         |Mean of WPM       | variance of WPM\n",
        "--------------|------------------|------------------\n",
        "**UG and Masters**|Failed to Reject Null Hypthesis, Hence no conclusion about the comparison between their average typing speeds can be drawn|They have different variance for average WPM\n",
        "**UG and PHD**|The average typing speed (average WPM) of UG is greater is than average typing speed (average WPM) of PHD|They have diferent variance for average WPM\n",
        "**Masters and PHD**|The average typing speed (average WPM) of Masters is greater is than average typing speed (average WPM) of PHD|They have diferent variance for average WPM"
      ],
      "metadata": {
        "id": "VARsswAVF9FD"
      }
    },
    {
      "cell_type": "markdown",
      "source": [
        "###Case-3: Branch Based\n",
        "* Null Hypothesis: population mean for average WPM for group2 is greater than or equal to group1\n",
        "* Alternative Hypothesis: population mean for average WPM of group2 is less than group1 \n",
        "\n",
        "\n",
        "* Null Hypothesis: population mean for average WPM for group3 is greater than or equal to group1\n",
        "* Alternative Hypothesis: population mean for average WPM of group3 is less than group1 \n",
        "\n",
        "\n",
        "* Null Hypothesis: population mean for average WPM for group4 is greater than or equal to group1\n",
        "* Alternative Hypothesis: population mean for average WPM of group4 is less than group1 \n",
        "\n",
        "\n",
        "* Null Hypothesis: population mean foraverage WPM for group3 is greater than or equal to group2\n",
        "* Alternative Hypothesis: population mean for average WPM of group3 is less than group2 \n",
        "\n",
        "\n",
        "* Null Hypothesis: population mean for average WPM for group4 is greater than or equal to group2\n",
        "* Alternative Hypothesis: population mean for average WPM of group4 is less than group2 \n",
        "\n",
        "\n",
        "* Null Hypothesis: population mean for average WPM for group4 is greater than or equal to group3\n",
        "* Alternative Hypothesis: population mean for average WPM of group4 is less than group3 \n",
        "---\n",
        "* Null Hypothesis: population variance of average WPM for group1 and group2 are equal\n",
        "* Alternative Hypothesis: population variance of average WPM for group1 and group2 are not equal\n",
        "\n",
        "\n",
        "* Null Hypothesis: population variance of average WPM for group1 and group3 are equal\n",
        "* Alternative Hypothesis: population variance of average WPM for group1 and group3 are not equal\n",
        "\n",
        "\n",
        "* Null Hypothesis: population variance of average WPM for group1 and group4 are equal\n",
        "* Alternative Hypothesis: population variance of average WPM for group1 and group4 are not equal\n",
        "\n",
        "\n",
        "* Null Hypothesis: population variance of average WPM for group2 and group3 are equal\n",
        "* Alternative Hypothesis: population variance of average WPM for group2 and group3 are not equal\n",
        "\n",
        "\n",
        "* Null Hypothesis: population variance of average WPM for group2 and group4 are equal\n",
        "* Alternative Hypothesis: population variance of average WPM for group2 and group4 are not equal\n",
        "\n",
        "\n",
        "* Null Hypothesis: population variance of average WPM for group3 and group4 are equal\n",
        "* Alternative Hypothesis: population variance of average WPM for group3 and group4 are not equal"
      ],
      "metadata": {
        "id": "rSnky3l6JREo"
      }
    },
    {
      "cell_type": "code",
      "source": [
        "wpm_group1_group2_hypo_test=hypo_test(sample_group1,\"Average_WPM\",sample_group2,\"Average_WPM\")\n",
        "wpm_group1_group2_hypo_test"
      ],
      "metadata": {
        "colab": {
          "base_uri": "https://localhost:8080/"
        },
        "id": "EJSkjtSfJDge",
        "outputId": "7b65ce5b-7d75-40cb-bb8a-2875b81ff04c"
      },
      "execution_count": null,
      "outputs": [
        {
          "output_type": "stream",
          "name": "stdout",
          "text": [
            "Hypothesis that mean typing speed of sample_group2 > sample_group1 is rejected\n",
            "Reject claim that s1 and s2 have equal variance\n"
          ]
        }
      ]
    },
    {
      "cell_type": "code",
      "source": [
        "wpm_group1_group3_hypo_test=hypo_test(sample_group1,\"Average_WPM\",sample_group3,\"Average_WPM\")\n",
        "wpm_group1_group3_hypo_test"
      ],
      "metadata": {
        "colab": {
          "base_uri": "https://localhost:8080/"
        },
        "id": "mdFgUCpHJDxL",
        "outputId": "6e2e6048-4a30-46ed-d71c-c7fe34eb2824"
      },
      "execution_count": null,
      "outputs": [
        {
          "output_type": "stream",
          "name": "stdout",
          "text": [
            "Hypothesis that mean typing speed of sample_group3 > sample_group1 is rejected\n",
            "Reject claim that s1 and s2 have equal variance\n"
          ]
        }
      ]
    },
    {
      "cell_type": "code",
      "source": [
        "wpm_group1_group4_hypo_test=hypo_test(sample_group1,\"Average_WPM\",sample_group4,\"Average_WPM\")\n",
        "wpm_group1_group4_hypo_test"
      ],
      "metadata": {
        "colab": {
          "base_uri": "https://localhost:8080/"
        },
        "id": "S7VDfV3zJEG7",
        "outputId": "789e373c-dfa2-4388-95d0-24b22b5cac3a"
      },
      "execution_count": null,
      "outputs": [
        {
          "output_type": "stream",
          "name": "stdout",
          "text": [
            "Hypothesis that mean typing speed of sample_group4 > sample_group1 is rejected\n",
            "Reject claim that s1 and s2 have equal variance\n"
          ]
        }
      ]
    },
    {
      "cell_type": "code",
      "source": [
        "wpm_group2_group3_hypo_test=hypo_test(sample_group2,\"Average_WPM\",sample_group3,\"Average_WPM\")\n",
        "wpm_group2_group3_hypo_test"
      ],
      "metadata": {
        "colab": {
          "base_uri": "https://localhost:8080/"
        },
        "id": "n55IbUpIJajZ",
        "outputId": "455dcfff-9567-49c1-b1e4-413d580df833"
      },
      "execution_count": null,
      "outputs": [
        {
          "output_type": "stream",
          "name": "stdout",
          "text": [
            "Cannot reject null hypothesis\n",
            "Reject claim that s1 and s2 have equal variance\n"
          ]
        }
      ]
    },
    {
      "cell_type": "code",
      "source": [
        "wpm_group2_group4_hypo_test=hypo_test(sample_group2,\"Average_WPM\",sample_group4,\"Average_WPM\")\n",
        "wpm_group2_group4_hypo_test"
      ],
      "metadata": {
        "colab": {
          "base_uri": "https://localhost:8080/"
        },
        "id": "CTVon_zUJjv3",
        "outputId": "d05465f4-d335-4ad8-927f-f92b5f820573"
      },
      "execution_count": null,
      "outputs": [
        {
          "output_type": "stream",
          "name": "stdout",
          "text": [
            "Cannot reject null hypothesis\n",
            "Reject claim that s1 and s2 have equal variance\n"
          ]
        }
      ]
    },
    {
      "cell_type": "code",
      "source": [
        "wpm_group3_group4_hypo_test=hypo_test(sample_group3,\"Average_WPM\",sample_group4,\"Average_WPM\")\n",
        "wpm_group3_group4_hypo_test"
      ],
      "metadata": {
        "colab": {
          "base_uri": "https://localhost:8080/"
        },
        "id": "fCFfDBXKJem6",
        "outputId": "18bf8f3b-ec31-4358-d227-5bc1d77d9c07"
      },
      "execution_count": null,
      "outputs": [
        {
          "output_type": "stream",
          "name": "stdout",
          "text": [
            "Cannot reject null hypothesis\n",
            "Reject claim that s1 and s2 have equal variance\n"
          ]
        }
      ]
    },
    {
      "cell_type": "markdown",
      "source": [
        "####**conclusions**\n",
        "\n",
        "Batch         |Mean of WPM       | variance of WPM\n",
        "--------------|------------------|------------------\n",
        "**Group1 and Group2**|The average typing speed (average WPM) of group1 is greater is than average typing speed (average WPM) of group2|They have different variance for average WPM\n",
        "**Group1 and Group3**|The average typing speed (average WPM) of group1 is greater is than average typing speed (average WPM) of group3|They have diferent variance for average WPM\n",
        "**Group1 and Group4**|The average typing speed (average WPM) of group1 is greater is than average typing speed (average WPM) of group4|They have diferent variance for average WPM\n",
        "**Group2 and Group3**|Failed to Reject Null Hypthesis, Hence no conclusion about the comparison between their average typing speeds can be drawn|They have different variance for average WPM\n",
        "**Group2 and Group4**|Failed to Reject Null Hypthesis, Hence no conclusion about the comparison between their average typing speeds can be drawn|They have different variance for average WPM\n",
        "**Group3 and Group4**|Failed to Reject Null Hypthesis, Hence no conclusion about the comparison between their average typing speeds can be drawn|They have different variance for average WPM"
      ],
      "metadata": {
        "id": "GoJJps04LABo"
      }
    },
    {
      "cell_type": "markdown",
      "source": [
        "##**Conclusions**\n",
        "We could draw the following conclusions through our study\n",
        "* In terms of words per minute, on an average, group of  males have been found to perform better than their female counterparts. The spread of data is not similar for these two genders.\n",
        "* In terms of wpm, Group 1(CSE, MA, AI, ES) performed the best . No concrete conclusion can be drawn about the order betweenthe other groups\\\n",
        "Spread of all groups is different.\n",
        "* UGs and Master students have higher average typing speeds as compared to Phd Students.\\\n",
        "All of them have different variances.\n",
        " "
      ],
      "metadata": {
        "id": "WumzPzwZv96Y"
      }
    },
    {
      "cell_type": "markdown",
      "source": [
        "##**Limitations**\n",
        "* We performed an observational study. Due to underlying effects of confounding variables, we can only ascertain correlation and not causation between the independent and dependent variables.\n",
        "* Due to constraints in the Data Collection process, we were only able to collect limited data\n",
        "* The Data was collected through the process of convinience sampling and the size of the Data was small. The Data was prone to bias. We tried our best to eliminate it by using a sampling distribution.\n",
        "* We did not consider other important factors like - Dexterity, Typing history and Touch Typing in our study. \\\n",
        "(We needed a sample of size greater than or equal to 30 for each of these factors, and it was not possible make a statistically sound analysis by including these factors with the limited data that was collected)\n"
      ],
      "metadata": {
        "id": "5MemoJS0o3b7"
      }
    },
    {
      "cell_type": "code",
      "source": [
        "import matplotlib.pyplot as plt\n",
        "import seaborn as sns; sns.set()\n",
        "import numpy as np\n",
        "from sklearn.cluster import KMeans"
      ],
      "metadata": {
        "id": "zXtIriJB2Bph"
      },
      "execution_count": null,
      "outputs": []
    },
    {
      "cell_type": "code",
      "source": [
        "kmeans = KMeans(n_clusters=4)\n",
        "kmeans.fit(X)\n",
        "y_kmeans = kmeans.predict(X)\n",
        "plt.scatter(X[:, 0], X[:, 1], c=y_kmeans, s=20, cmap='summer')\n",
        "centers = kmeans.cluster_centers_\n",
        "plt.scatter(centers[:, 0], centers[:, 1], c='blue', s=100, alpha=0.9);\n",
        "plt.show()"
      ],
      "metadata": {
        "id": "8my4OFKt2Cru"
      },
      "execution_count": null,
      "outputs": []
    }
  ],
  "metadata": {
    "colab": {
      "collapsed_sections": [],
      "name": "new_stats_proj.ipynb",
      "provenance": []
    },
    "kernelspec": {
      "display_name": "Python 3",
      "name": "python3"
    },
    "language_info": {
      "name": "python"
    }
  },
  "nbformat": 4,
  "nbformat_minor": 0
}